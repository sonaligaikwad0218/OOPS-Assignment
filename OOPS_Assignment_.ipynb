{
  "nbformat": 4,
  "nbformat_minor": 0,
  "metadata": {
    "colab": {
      "provenance": []
    },
    "kernelspec": {
      "name": "python3",
      "display_name": "Python 3"
    },
    "language_info": {
      "name": "python"
    }
  },
  "cells": [
    {
      "cell_type": "markdown",
      "source": [
        "# Therotical Questions :"
      ],
      "metadata": {
        "id": "OiBoMstzCd39"
      }
    },
    {
      "cell_type": "markdown",
      "source": [
        " 1. What is Object-Oriented Programming (OOP) ?\n",
        "     - OOP is a programming paradigm that revolves around objects and classes . Objects represent real-world entities with properties (data) and methods (functions) .Classes are Blueprints for creating objects .\n",
        "\n",
        "\n",
        "\n",
        "\n",
        " 2. What is a class in OOP ?\n",
        "     - A class is a blueprint or template for creating objects . Defines properties (data) and methods (functions) .Serves as a template for creating multiple objects with similar characteristics\n",
        "\n",
        "\n",
        "\n",
        " 3. What is an object in OOP ?\n",
        "     - An object is an instance of a class.Represents a real-world entity with its own set of attributes (data) and methods (functions).Has its own state (defined by its attributes) and behavior (defined by its methods) .\n",
        "\n",
        "\n",
        "\n",
        "\n",
        " 4. What is the difference between abstraction and encapsulation ?\n",
        "     - Abstraction Hides implementation details, showing only necessary information. Focuses on what an object does, not how it does it.Helps reduce complexity by exposing only essential features .\n",
        "\n",
        "    - Encapsulation Bundles data and methods that operate on that data.Restricts access to certain details, controlling how data is accessed or modified .Protects data integrity by controlling access through methods.\n",
        "\n",
        "    - Key Differences :\n",
        "      Abstraction is about simplifying complexity by hiding details .\n",
        "      Encapsulation is about wrapping data and methods together, controlling access .\n",
        "\n",
        "\n",
        "\n",
        "\n",
        " 5. What are dunder methods in Python ?\n",
        "     - Dunder methods, short for \"double underscore\" methods, are special methods in Python classes.Surrounded by double underscores (e.g., __init__, __str__).Automatically called by Python in specific situations .\n",
        "\n",
        "\n",
        "\n",
        "\n",
        "\n",
        " 6. Explain the concept of inheritance in OOP ?\n",
        "     - Inheritance is a mechanism in OOP where a new class (the subclass or derived class) inherits properties and methods from an existing class (the superclass or base class). Promotes code reusability. Establishes a parent-child relationship between classes .\n",
        "\n",
        "    - Key Features :\n",
        "      1. Code reuse: Subclasses inherit properties and methods from the superclass .\n",
        "      2. Method overriding: Subclasses can redefine methods inherited from the superclass .\n",
        "      3. Method extension: Subclasses can add new methods or properties .\n",
        "\n",
        "\n",
        " 7.  What is polymorphism in OOP ?\n",
        "     - Polymorphism is the ability of an object to take on multiple forms.\n",
        "      Same interface different\n",
        "       implementations.\n",
        "      Flexibility and generic code.\n",
        "\n",
        "\n",
        "\n",
        " 8. How is encapsulation achieved in Python ?\n",
        "     - Encapsulation is achieved in Python through access modifiers and conventions.\n",
        "\n",
        "      - Access Modifiers :\n",
        "        1. Public: No restrictions on  access (default) .\n",
        "        2. Private: Prefix with double underscore (__) to indicate private attributes or methods .\n",
        "        3. Protected: Prefix with single underscore (_) to indicate protected attributes or methods .\n",
        "\n",
        "\n",
        " 9. What is a constructor in Python ?\n",
        "    - A constructor is a special method in a class that is automatically called when an object of that class is created .\n",
        "    -  Used to initialize the attributes of the class .\n",
        "   -  Defined using the __init__ method .\n",
        "\n",
        "\n",
        "\n",
        " 10. What are class and static methods in Python ?\n",
        "     -  Class Methods :\n",
        "           Bound to the class rather than an instance .\n",
        "     - *Use the @classmethod decorator* .\n",
        "     - Take the class as the first argument (conventionally named cls) .\n",
        "     - Static Methods:\n",
        "           Not bound to the class or instance .\n",
        "      *Use the @staticmethod decorator* .\n",
        "     Do not take any implicit arguments (no self or cls) .\n",
        "\n",
        "\n",
        "\n",
        " 11. What is method overloading in Python ?\n",
        "     - Method overloading is a feature in some programming languages that allows multiple methods with the same name but different parameters.\n",
        "     - Not directly supported in Python like in some other languages.\n",
        "      Achieved using default arguments or variable-length argument lists.\n",
        "      \n",
        "     \n",
        "\n",
        "\n",
        "\n",
        "\n",
        " 12. What is method overriding in OOP ?\n",
        "     - Method overriding is a feature in OOP where a subclass provides a specific implementation of a method that is already defined in its superclass .\n",
        "\n",
        "\n",
        "\n",
        " 13. What is a property decorator in Python ?\n",
        "     - The @property decorator in Python allows a method to be called like an attribute.\n",
        "     Getter: Retrieves the value of an attribute.\n",
        "     Setter: Sets the value of an attribute.\n",
        "     Deleter: Deletes an attribute .\n",
        "\n",
        "\n",
        "\n",
        "\n",
        "14. Why is polymorphism important in OOP ?\n",
        "    - Polymorphism is important in OOP because it allows for:\n",
        "     1. Flexibility: Write code that works with different data types  .\n",
        "     2. Generic code: Reduce code duplication by writing generic functions or methods.\n",
        "    3. Easier maintenance: Modify or extend code without affecting existing functionality .\n",
        "\n",
        "     -Benefits:\n",
        "    1. More reusable code: Write code that can be used with different classes or objects.\n",
        "    2. Improved readability: Code is more concise and easier to understand .\n",
        "    3. Easier extension: Add new functionality without modifying existing code 🔧\n",
        "\n",
        "\n",
        "\n",
        "15. What is an abstract class in Python ?\n",
        "    - An abstract class is a class that cannot be instantiated and is designed to be inherited by other classes.\n",
        "     Defines a blueprint for other classes to follow  .\n",
        "     Can have abstract methods (methods declared but not defined) .\n",
        "\n",
        "\n",
        "\n",
        "\n",
        " 16. What are the advantages of OOP ?\n",
        "     - 1. Modularity: Breaks down code into smaller, manageable modules (classes) .\n",
        "       2. Reusability: Classes can be reused in multiple programs or projects.\n",
        "       3. Easier maintenance: Changes to code are localized, reducing the risk of introducing bugs .\n",
        "       4. Improved readability: Code is more organized and easier to understand.\n",
        "       5. Flexibility: OOP concepts like inheritance and polymorphism make it easier to adapt to changing requirements .\n",
        "       6. Encapsulation: Hides internal implementation details, reducing complexity and improving security .\n",
        "\n",
        "       - Additional Benefits :\n",
        "      1. Better error handling: OOP's modular nature makes it easier to identify and fix errors.\n",
        "      2. Improved collaboration: OOP's structure and organization make it easier for teams to work together .\n",
        "\n",
        "\n",
        "\n",
        "\n",
        "\n",
        "\n",
        " 17. What is multiple inheritance in Python ?\n",
        "     - Multiple inheritance is a feature in Python where a class can inherit from multiple base classes.\n",
        "     A subclass can inherit attributes and methods from more than one superclass\n",
        "\n",
        "\n",
        "18. What is the difference between a class variable and an instance variable ?\n",
        "    - Key Differences:\n",
        "     1. Scope: Class variables are shared, while instance variables are unique to each instance .\n",
        "     2. Lifetime: Class variables exist for the lifetime of the class, while instance variables exist for the lifetime of the instance\n",
        "\n",
        "\n",
        "\n",
        " 19. Explain the purpose of ‘’__str__’ and ‘__repr__’ ‘ methods in Python ?\n",
        "     - *__str__* and *__repr__* are special methods in Python classes that return a string representation of an object.\n",
        "\n",
        "     *__str__ Method *:\n",
        "     1. Returns a human-readable string representation of the object .\n",
        "     2. Used for end-users, such as in print statements or user interfaces .\n",
        "     3. Should be readable and concise .\n",
        "\n",
        "     *__repr__ Method *:\n",
        "     1. Returns a string that could be used to recreate the object .\n",
        "     2. Used for developers, such as in debugging or logging .\n",
        "     3. Should be a valid Python expression.\n",
        "\n",
        "\n",
        "\n",
        "\n",
        "\n",
        " 20. What is the significance of the ‘super()’ function in Python ?\n",
        "     - The super() function in Python is used to access methods and properties of a parent class.\n",
        "      Enables method overriding and method extension in inheritance.\n",
        "     Allows for code reuse and more flexibility in class design .\n",
        "\n",
        "\n",
        "\n",
        " 21. What is the significance of the __del__ method in Python ?\n",
        "     - 1. Resource management: Use __del__ to release resources, such as file handles or network connections.\n",
        "    2. Not a substitute for explicit cleanup: Use try-finally blocks or with statements for more reliable cleanup.\n",
        "    3. Unpredictable timing: Don't rely on __del__ being called immediately or at all.\n",
        "\n",
        "\n",
        "\n",
        " 22. What is the difference between @staticmethod and @classmethod in Python ?\n",
        "     - Key Differences:\n",
        "     1. Access to class and instance attributes: @classmethod has access to class attributes, while @staticmethod does not.\n",
        "     2. Use cases: @staticmethod for utility functions, @classmethod for alternative constructors or class-level operations .\n",
        "\n",
        "\n",
        "\n",
        "\n",
        " 23. How does polymorphism work in Python with inheritance ?\n",
        "     - 1. Common superclass: Shape is the superclass for Circle and Rectangle .\n",
        "      2. Method overriding: Circle and Rectangle override the area method to provide their own implementation.\n",
        "      3. Polymorphic behavior: The shapes list can contain objects of different classes, and the correct area method is called based on the object's type.\n",
        "\n",
        "     Benefits:\n",
        "      1. More flexibility: Polymorphism allows for more generic code that can work with different classes .\n",
        "      2. Easier maintenance: Adding new subclasses doesn't require changing existing code.\n",
        "\n",
        "\n",
        "\n",
        "\n",
        " 24. What is method chaining in Python OOP ?\n",
        "     - Method chaining is a technique in Python where multiple methods are called on the same object in a single statement .\n",
        "     - Each method returns the object itself (self), allowing for chaining of method calls .\n",
        "\n",
        "\n",
        " 25. What is the purpose of the __call__ method in Python?\n",
        "     - 1. Create callable objects: Allow instances to behave like functions.\n",
        "      2. Implement function-like behavior: Use instances as higher-order functions or function wrappers\n"
      ],
      "metadata": {
        "id": "KxUadOFeCjSo"
      }
    },
    {
      "cell_type": "markdown",
      "source": [
        "# Practical Questions"
      ],
      "metadata": {
        "id": "C2-kTFL1CjPN"
      }
    },
    {
      "cell_type": "markdown",
      "source": [
        " 1. Create a parent class Animal with a method speak() that prints a generic message. Create a child class Dog\n",
        "that overrides the speak() method to print \"Bark!\""
      ],
      "metadata": {
        "id": "RKt-IAaDCjKo"
      }
    },
    {
      "cell_type": "code",
      "source": [
        "class Animal:\n",
        "    def speak(self):\n",
        "        print(\"Generic message\")\n",
        "\n",
        "class Dog(Animal):\n",
        "    def speak(self):\n",
        "        print(\"Bark!\")"
      ],
      "metadata": {
        "id": "eJL3sZsoHUj7"
      },
      "execution_count": null,
      "outputs": []
    },
    {
      "cell_type": "markdown",
      "source": [
        " 2. Write a program to create an abstract class Shape with a method area(). Derive classes Circle and Rectangle\n",
        "from it and implement the area() method in both.\n"
      ],
      "metadata": {
        "id": "Pa59N3N9CjGR"
      }
    },
    {
      "cell_type": "code",
      "source": [
        "class Shape:\n",
        "    def area(self):\n",
        "        pass\n",
        "\n",
        "class Rectangle(Shape):\n",
        "    def __init__(self, length, width):\n",
        "        self.length = length\n",
        "        self.width = width\n",
        "\n",
        "    def area(self):\n",
        "        return self.length * self.width\n",
        "\n"
      ],
      "metadata": {
        "id": "B4Cvai8IHhSR"
      },
      "execution_count": null,
      "outputs": []
    },
    {
      "cell_type": "markdown",
      "source": [
        " 3. Implement a multi-level inheritance scenario where a class Vehicle has an attribute type. Derive a class Car\n",
        "and further derive a class ElectricCar that adds a battery attribute"
      ],
      "metadata": {
        "id": "xMyoqNqJCjBe"
      }
    },
    {
      "cell_type": "code",
      "source": [
        "class Car:\n",
        "    def __init__(self,type):\n",
        "        self.type = type\n",
        "\n",
        "class Electiccar(Car):\n",
        "    def __init__(self,type,battery):\n",
        "         super().__init__(type)\n",
        "         self.battery = battery"
      ],
      "metadata": {
        "id": "NRdgqI7THuGT"
      },
      "execution_count": null,
      "outputs": []
    },
    {
      "cell_type": "markdown",
      "source": [
        "4. Demonstrate polymorphism by creating a base class Bird with a method fly(). Create two derived classes\n",
        "Sparrow and Penguin that override the fly() method."
      ],
      "metadata": {
        "id": "bP0CDh_UCi9I"
      }
    },
    {
      "cell_type": "code",
      "source": [
        "class Bird :\n",
        "    def fly(self):\n",
        "       pass\n",
        "\n",
        "class Sparrow(Bird):\n",
        "    def fly(self):\n",
        "      print(\"Sparrow is flying\")\n",
        "\n",
        "\n",
        "class Penguin(Bird):\n",
        "   def fly(self):\n",
        "      print(\"Penguion cannot fly\")"
      ],
      "metadata": {
        "id": "fF3new2DL0po"
      },
      "execution_count": null,
      "outputs": []
    },
    {
      "cell_type": "code",
      "source": [
        "moringa = Sparrow()\n",
        "moringa.fly()"
      ],
      "metadata": {
        "colab": {
          "base_uri": "https://localhost:8080/"
        },
        "id": "jvV-gkDSNKvD",
        "outputId": "73f78797-169f-492c-b144-bf6791220c03"
      },
      "execution_count": null,
      "outputs": [
        {
          "output_type": "stream",
          "name": "stdout",
          "text": [
            "Sparrow is flying\n"
          ]
        }
      ]
    },
    {
      "cell_type": "markdown",
      "source": [
        "5. Write a program to demonstrate encapsulation by creating a class BankAccount with private attributes\n",
        "balance and methods to deposit, withdraw, and check balance"
      ],
      "metadata": {
        "id": "u3JUT7qJCi3P"
      }
    },
    {
      "cell_type": "code",
      "source": [
        "class BankAccount:\n",
        "    def __init__(self,balance):\n",
        "        self.balance = balance\n",
        "\n",
        "    def deposite(self,amount):\n",
        "        self.balance += amount\n",
        "\n",
        "    def withdraw(self,amount):\n",
        "        self.balance -= amount\n",
        "\n",
        "    def check_balance(self):\n",
        "         return self.balance\n",
        "\n"
      ],
      "metadata": {
        "id": "1U8ISzsSOTXs"
      },
      "execution_count": null,
      "outputs": []
    },
    {
      "cell_type": "markdown",
      "source": [
        "6. Demonstrate runtime polymorphism using a method play() in a base class Instrument. Derive classes Guitar\n",
        "and Piano that implement their own version of play()"
      ],
      "metadata": {
        "id": "0yl1K_alCisP"
      }
    },
    {
      "cell_type": "code",
      "source": [
        "class Instrument:\n",
        "    def play(self):\n",
        "        pass\n",
        "\n",
        "class Guitar(Instrument):\n",
        "    def play(self):\n",
        "        print(\"guitar is playing\")\n",
        "\n",
        "\n",
        "class Piano(Instrument):\n",
        "    def play(self):\n",
        "       print(\"piano is playing\")"
      ],
      "metadata": {
        "id": "i-QDMEA9PwOh"
      },
      "execution_count": null,
      "outputs": []
    },
    {
      "cell_type": "markdown",
      "source": [
        " 7. Create a class MathOperations with a class method add_numbers() to add two numbers and a static\n",
        "method subtract_numbers() to subtract two numbers.\n"
      ],
      "metadata": {
        "id": "DofiG313CiiZ"
      }
    },
    {
      "cell_type": "code",
      "source": [
        "class MathOperations:\n",
        "    @classmethod\n",
        "    def add_numbers(cls, a,b):\n",
        "        return a+b\n",
        "\n",
        "\n",
        "    @staticmethod\n",
        "    def subtract_numbers(a,b):\n",
        "         return a-b"
      ],
      "metadata": {
        "id": "otA4XkMmQ97b"
      },
      "execution_count": null,
      "outputs": []
    },
    {
      "cell_type": "markdown",
      "source": [
        " 8. Implement a class Person with a class method to count the total number of persons created"
      ],
      "metadata": {
        "id": "mEOEgf9ZCiZw"
      }
    },
    {
      "cell_type": "code",
      "source": [
        "class Persons:\n",
        "    persons_count = 0\n",
        "\n",
        "    def __init__(self, name):\n",
        "        self.name = name\n",
        "        Persons.persons_count += 1\n",
        "\n",
        "    @classmethod\n",
        "    def get_persons_count(cls):\n",
        "        return cls.persons_count\n",
        "\n",
        "a = Persons(\"Shourya\")\n",
        "b = Persons(\"VIjay\")\n",
        "c = Persons(\"shourya\")\n",
        "print(\"Total no of persons:\", Persons.get_persons_count())"
      ],
      "metadata": {
        "colab": {
          "base_uri": "https://localhost:8080/"
        },
        "id": "i0mUz3UuIIDA",
        "outputId": "a876e0f4-7e3d-445d-d197-6231f7e9e0b7"
      },
      "execution_count": null,
      "outputs": [
        {
          "output_type": "stream",
          "name": "stdout",
          "text": [
            "Total no of persons: 3\n"
          ]
        }
      ]
    },
    {
      "cell_type": "markdown",
      "source": [
        " 9. Write a class Fraction with attributes numerator and denominator. Override the str method to display the\n",
        "fraction as \"numerator/denominator\""
      ],
      "metadata": {
        "id": "BTqR7g_yCiOW"
      }
    },
    {
      "cell_type": "code",
      "source": [
        "class Fraction:\n",
        "    def __init__(self, numerator, denominator):\n",
        "        self.numerator = numerator\n",
        "        self.denominator = denominator\n",
        "\n",
        "    def __str__(self):\n",
        "        return f\"{self.numerator}/{self.denominator}\""
      ],
      "metadata": {
        "id": "TFioL0YvILqy"
      },
      "execution_count": null,
      "outputs": []
    },
    {
      "cell_type": "markdown",
      "source": [
        " 10. Demonstrate operator overloading by creating a class Vector and overriding the add method to add two\n",
        "vectors.\n"
      ],
      "metadata": {
        "id": "IrmDDOByINcy"
      }
    },
    {
      "cell_type": "code",
      "source": [
        "class Vector:\n",
        "    def __init__(self,x,y):\n",
        "      self.x = x\n",
        "      self.y = y\n",
        "\n",
        "    def __add__(self,other):\n",
        "       return Vector(self.x + other.x,self.y + other.y)"
      ],
      "metadata": {
        "id": "kpixg239YCTz"
      },
      "execution_count": null,
      "outputs": []
    },
    {
      "cell_type": "markdown",
      "source": [
        " 11. Create a class Person with attributes name and age. Add a method greet() that prints \"Hello, my name is\n",
        "{name} and I am {age} years old."
      ],
      "metadata": {
        "id": "718fj_aYINV2"
      }
    },
    {
      "cell_type": "code",
      "source": [
        "class Person :\n",
        "    def __init__(self,name,age):\n",
        "        self.name = name\n",
        "        self.age = age\n",
        "\n",
        "    def greet(self):\n",
        "       print(f\"Hello, my name is { self.name},and i am {self.age} years\")\n",
        "\n",
        "\n",
        "    a = Person(\"vijay\", 35)\n",
        "    a.greet()"
      ],
      "metadata": {
        "colab": {
          "base_uri": "https://localhost:8080/"
        },
        "id": "4OOMmsFOIZUi",
        "outputId": "c2b8779d-82cd-4e59-8862-8f2288352f1d"
      },
      "execution_count": null,
      "outputs": [
        {
          "output_type": "stream",
          "name": "stdout",
          "text": [
            "Hello, my name is vijay,and i am 35 years\n"
          ]
        }
      ]
    },
    {
      "cell_type": "markdown",
      "source": [
        " 12. Implement a class Student with attributes name and grades. Create a method average_grade() to compute\n",
        "the average of the grades"
      ],
      "metadata": {
        "id": "vsDGm7R4IaBf"
      }
    },
    {
      "cell_type": "code",
      "source": [
        "class Student:\n",
        "    def __init(self,name,grade):\n",
        "      self.name = name\n",
        "      self.grade = grade\n",
        "\n",
        "    def get_average_grade(self):\n",
        "        return(sum.grade/len.grade)"
      ],
      "metadata": {
        "id": "fylJpZliIc8Q"
      },
      "execution_count": null,
      "outputs": []
    },
    {
      "cell_type": "markdown",
      "source": [
        " 13. Create a class Rectangle with methods set_dimensions() to set the dimensions and area() to calculate the\n",
        "area.\n"
      ],
      "metadata": {
        "id": "GEx2rmtPIdho"
      }
    },
    {
      "cell_type": "code",
      "source": [
        "class Rectangle:\n",
        "    def __init__(self, length=0, width=0):\n",
        "        self.length = length\n",
        "        self.width = width\n",
        "\n",
        "    def set_dimensions(self, length, width):\n",
        "        self.length = length\n",
        "        self.width = width\n",
        "\n",
        "    def area(self):\n",
        "        return self.length * self.width\n",
        "\n",
        "# Example usage:\n",
        "rect = Rectangle()\n",
        "rect.set_dimensions(10, 5)\n",
        "print(f\"Area of the rectangle: {rect.area()}\")\n",
        "\n",
        "rect2 = Rectangle(7, 3)\n",
        "print(f\"Area of the second rectangle: {rect2.area()}\")"
      ],
      "metadata": {
        "colab": {
          "base_uri": "https://localhost:8080/"
        },
        "id": "TUwhhcaGcYij",
        "outputId": "3b2c49df-ba09-40ba-d92f-34d40172a699"
      },
      "execution_count": null,
      "outputs": [
        {
          "output_type": "stream",
          "name": "stdout",
          "text": [
            "Area of the rectangle: 50\n",
            "Area of the second rectangle: 21\n"
          ]
        }
      ]
    },
    {
      "cell_type": "markdown",
      "source": [
        " 14. Create a class Employee with a method calculate_salary() that computes the salary based on hours worked\n",
        "and hourly rate. Create a derived class Manager that adds a bonus to the salary"
      ],
      "metadata": {
        "id": "DS-V__OfIlaw"
      }
    },
    {
      "cell_type": "code",
      "source": [
        "class Employee:\n",
        "    def __init__(self, name, hours_worked, hourly_rate):\n",
        "        self.name = name\n",
        "        self.hours_worked = hours_worked\n",
        "        self.hourly_rate = hourly_rate\n",
        "\n",
        "    def calculate_salary(self):\n",
        "        return self.hours_worked * self.hourly_rate\n",
        "\n",
        "class Manager(Employee):\n",
        "    def __init__(self, name , hours_worked, hourly_rate, bonus):\n",
        "        super().__init__(name,hours_worked, hourly_rate)\n",
        "        self.bonus = bonus\n",
        "\n",
        "    def calculate_salary():\n",
        "        base_salary = calculate_salary()\n",
        "        return base_salary + calculate_salary()\n"
      ],
      "metadata": {
        "id": "--bffeNjIqNv"
      },
      "execution_count": null,
      "outputs": []
    },
    {
      "cell_type": "markdown",
      "source": [
        "15. Create a class Product with attributes name, price, and quantity. Implement a method total_price() that\n",
        "calculates the total price of the product"
      ],
      "metadata": {
        "id": "FWoosqL-Iqp4"
      }
    },
    {
      "cell_type": "code",
      "source": [
        "class Product:\n",
        "    def __init__(self,name,price,quantity):\n",
        "      self.name = name\n",
        "      self.price = price\n",
        "      self.quantity = quantity\n",
        "\n",
        "    def total_price(self):\n",
        "        return self.price * self.quantity"
      ],
      "metadata": {
        "id": "sibrM184IvHx"
      },
      "execution_count": null,
      "outputs": []
    },
    {
      "cell_type": "markdown",
      "source": [
        " 16. Create a class Animal with an abstract method sound(). Create two derived classes Cow and Sheep that\n",
        "implement the sound() method.\n"
      ],
      "metadata": {
        "id": "z09frU4aIvum"
      }
    },
    {
      "cell_type": "code",
      "source": [
        "class Animal:\n",
        "   def sound(self):\n",
        "        pass\n",
        "\n",
        "class Cow(Animal):\n",
        "   def sound(self):\n",
        "         print(\"cow moueses\")\n",
        "\n",
        "class Sheep(Animal):\n",
        "   def sound(self):\n",
        "         print(\"sheep sounds be be\")\n",
        "\n",
        "obj1 = Cow()\n",
        "obj2 =  Sheep()\n",
        "\n",
        "obj1.sound()\n",
        "obj2.sound()"
      ],
      "metadata": {
        "id": "N9Cqyp6xI0kX",
        "colab": {
          "base_uri": "https://localhost:8080/"
        },
        "outputId": "6b3d7bcb-74d2-48e0-97db-e746ed39aa02"
      },
      "execution_count": null,
      "outputs": [
        {
          "output_type": "stream",
          "name": "stdout",
          "text": [
            "cow moueses\n",
            "sheep sounds be be\n"
          ]
        }
      ]
    },
    {
      "cell_type": "markdown",
      "source": [
        " 17. Create a class Book with attributes title, author, and year_published. Add a method get_book_info() that\n",
        "returns a formatted string with the book's details.\n"
      ],
      "metadata": {
        "id": "w3m4vyf7I1Il"
      }
    },
    {
      "cell_type": "code",
      "source": [
        "class Book:\n",
        "    def __init__(self,title,auther,year_published):\n",
        "       self.title = title\n",
        "       self.auther = auther\n",
        "       self.year_published = year_published\n",
        "\n",
        "    def get_Book_info(self):\n",
        "       print(f\"Book name: {self.title},Auther: {self.auther} year_published: {self.year_published}\")\n",
        "\n",
        "a = Book(\"shyamachi Aai\",\"sane guruji\",1990)\n",
        "a.get_Book_info()"
      ],
      "metadata": {
        "id": "kqQVchT_I6va",
        "colab": {
          "base_uri": "https://localhost:8080/"
        },
        "outputId": "39707e53-4595-44b5-a809-eae98f9dbd22"
      },
      "execution_count": null,
      "outputs": [
        {
          "output_type": "stream",
          "name": "stdout",
          "text": [
            "Book name: shyamachi Aai,Auther: sane guruji year_published: 1990\n"
          ]
        }
      ]
    },
    {
      "cell_type": "markdown",
      "source": [
        " 18. Create a class House with attributes address and price. Create a derived class Mansion that adds an\n",
        "attribute number_of_rooms."
      ],
      "metadata": {
        "id": "ciCaJ3WaI7IU"
      }
    },
    {
      "cell_type": "code",
      "source": [
        "class House:\n",
        "    def __init__(self,address,price):\n",
        "        self.address = address\n",
        "        self.price = price\n",
        "\n",
        "class Mansion(House):\n",
        "    def __init__(self,address,price,number_of_rooms):\n",
        "        super().__init__ (address,price)\n",
        "        self.number_of_rooms = number_of_rooms"
      ],
      "metadata": {
        "id": "MLf0_gCMJDgy"
      },
      "execution_count": null,
      "outputs": []
    }
  ]
}